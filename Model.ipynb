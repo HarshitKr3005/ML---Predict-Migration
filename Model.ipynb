{
 "cells": [
  {
   "cell_type": "code",
   "execution_count": 70,
   "id": "9161e2bc",
   "metadata": {},
   "outputs": [],
   "source": [
    "import pandas as pd\n",
    "import numpy as np\n",
    "import matplotlib.pyplot as plt\n",
    "import seaborn as sns\n",
    "from sklearn.model_selection import train_test_split\n",
    "from sklearn.metrics import mean_squared_error\n",
    "from sklearn.naive_bayes import GaussianNB\n",
    "from sklearn.ensemble import RandomForestRegressor"
   ]
  },
  {
   "cell_type": "code",
   "execution_count": 56,
   "id": "e380edd4",
   "metadata": {},
   "outputs": [
    {
     "data": {
      "text/html": [
       "<div>\n",
       "<style scoped>\n",
       "    .dataframe tbody tr th:only-of-type {\n",
       "        vertical-align: middle;\n",
       "    }\n",
       "\n",
       "    .dataframe tbody tr th {\n",
       "        vertical-align: top;\n",
       "    }\n",
       "\n",
       "    .dataframe thead th {\n",
       "        text-align: right;\n",
       "    }\n",
       "</style>\n",
       "<table border=\"1\" class=\"dataframe\">\n",
       "  <thead>\n",
       "    <tr style=\"text-align: right;\">\n",
       "      <th></th>\n",
       "      <th>Measure</th>\n",
       "      <th>Country</th>\n",
       "      <th>Citizenship</th>\n",
       "      <th>Year</th>\n",
       "      <th>Value</th>\n",
       "    </tr>\n",
       "  </thead>\n",
       "  <tbody>\n",
       "    <tr>\n",
       "      <th>0</th>\n",
       "      <td>Arrivals</td>\n",
       "      <td>Oceania</td>\n",
       "      <td>New Zealand Citizen</td>\n",
       "      <td>1979</td>\n",
       "      <td>11817.0</td>\n",
       "    </tr>\n",
       "    <tr>\n",
       "      <th>1</th>\n",
       "      <td>Arrivals</td>\n",
       "      <td>Oceania</td>\n",
       "      <td>Australian Citizen</td>\n",
       "      <td>1979</td>\n",
       "      <td>4436.0</td>\n",
       "    </tr>\n",
       "    <tr>\n",
       "      <th>2</th>\n",
       "      <td>Arrivals</td>\n",
       "      <td>Oceania</td>\n",
       "      <td>Total All Citizenships</td>\n",
       "      <td>1979</td>\n",
       "      <td>19965.0</td>\n",
       "    </tr>\n",
       "    <tr>\n",
       "      <th>3</th>\n",
       "      <td>Arrivals</td>\n",
       "      <td>Antarctica</td>\n",
       "      <td>New Zealand Citizen</td>\n",
       "      <td>1979</td>\n",
       "      <td>10.0</td>\n",
       "    </tr>\n",
       "    <tr>\n",
       "      <th>4</th>\n",
       "      <td>Arrivals</td>\n",
       "      <td>Antarctica</td>\n",
       "      <td>Australian Citizen</td>\n",
       "      <td>1979</td>\n",
       "      <td>0.0</td>\n",
       "    </tr>\n",
       "    <tr>\n",
       "      <th>...</th>\n",
       "      <td>...</td>\n",
       "      <td>...</td>\n",
       "      <td>...</td>\n",
       "      <td>...</td>\n",
       "      <td>...</td>\n",
       "    </tr>\n",
       "    <tr>\n",
       "      <th>86521</th>\n",
       "      <td>Net</td>\n",
       "      <td>Not stated</td>\n",
       "      <td>Australian Citizen</td>\n",
       "      <td>2016</td>\n",
       "      <td>80.0</td>\n",
       "    </tr>\n",
       "    <tr>\n",
       "      <th>86522</th>\n",
       "      <td>Net</td>\n",
       "      <td>Not stated</td>\n",
       "      <td>Total All Citizenships</td>\n",
       "      <td>2016</td>\n",
       "      <td>3177.0</td>\n",
       "    </tr>\n",
       "    <tr>\n",
       "      <th>86523</th>\n",
       "      <td>Net</td>\n",
       "      <td>All countries</td>\n",
       "      <td>New Zealand Citizen</td>\n",
       "      <td>2016</td>\n",
       "      <td>-1818.0</td>\n",
       "    </tr>\n",
       "    <tr>\n",
       "      <th>86524</th>\n",
       "      <td>Net</td>\n",
       "      <td>All countries</td>\n",
       "      <td>Australian Citizen</td>\n",
       "      <td>2016</td>\n",
       "      <td>3487.0</td>\n",
       "    </tr>\n",
       "    <tr>\n",
       "      <th>86525</th>\n",
       "      <td>Net</td>\n",
       "      <td>All countries</td>\n",
       "      <td>Total All Citizenships</td>\n",
       "      <td>2016</td>\n",
       "      <td>70588.0</td>\n",
       "    </tr>\n",
       "  </tbody>\n",
       "</table>\n",
       "<p>86526 rows × 5 columns</p>\n",
       "</div>"
      ],
      "text/plain": [
       "        Measure        Country             Citizenship  Year    Value\n",
       "0      Arrivals        Oceania     New Zealand Citizen  1979  11817.0\n",
       "1      Arrivals        Oceania      Australian Citizen  1979   4436.0\n",
       "2      Arrivals        Oceania  Total All Citizenships  1979  19965.0\n",
       "3      Arrivals     Antarctica     New Zealand Citizen  1979     10.0\n",
       "4      Arrivals     Antarctica      Australian Citizen  1979      0.0\n",
       "...         ...            ...                     ...   ...      ...\n",
       "86521       Net     Not stated      Australian Citizen  2016     80.0\n",
       "86522       Net     Not stated  Total All Citizenships  2016   3177.0\n",
       "86523       Net  All countries     New Zealand Citizen  2016  -1818.0\n",
       "86524       Net  All countries      Australian Citizen  2016   3487.0\n",
       "86525       Net  All countries  Total All Citizenships  2016  70588.0\n",
       "\n",
       "[86526 rows x 5 columns]"
      ]
     },
     "execution_count": 56,
     "metadata": {},
     "output_type": "execute_result"
    }
   ],
   "source": [
    "data = pd.read_csv(r'C:\\Users\\harsh\\Desktop\\Projects\\Machine Learning\\Predict Migration\\Dataset.csv')\n",
    "data"
   ]
  },
  {
   "cell_type": "code",
   "execution_count": 57,
   "id": "be8c403d",
   "metadata": {},
   "outputs": [
    {
     "data": {
      "text/plain": [
       "array(['Arrivals', 'Departures', 'Net'], dtype=object)"
      ]
     },
     "execution_count": 57,
     "metadata": {},
     "output_type": "execute_result"
    }
   ],
   "source": [
    "data['Measure'].unique()"
   ]
  },
  {
   "cell_type": "code",
   "execution_count": 58,
   "id": "e90ea542",
   "metadata": {},
   "outputs": [],
   "source": [
    "data['Measure'].replace(\"Arrivals\",0,inplace = True)\n",
    "data['Measure'].replace(\"Departures\",1,inplace = True)\n",
    "data['Measure'].replace(\"Net\",2,inplace = True)"
   ]
  },
  {
   "cell_type": "code",
   "execution_count": 59,
   "id": "f4ce1b64",
   "metadata": {},
   "outputs": [
    {
     "data": {
      "text/plain": [
       "array([0, 1, 2], dtype=int64)"
      ]
     },
     "execution_count": 59,
     "metadata": {},
     "output_type": "execute_result"
    }
   ],
   "source": [
    "data['Measure'].unique()"
   ]
  },
  {
   "cell_type": "code",
   "execution_count": 60,
   "id": "4894c3ae",
   "metadata": {},
   "outputs": [
    {
     "data": {
      "text/plain": [
       "array(['Oceania', 'Antarctica', 'American Samoa', 'Australia',\n",
       "       'Cocos Islands', 'Cook Islands', 'Christmas Island', 'Fiji',\n",
       "       'Micronesia', 'Guam', 'Kiribati', 'Marshall Islands',\n",
       "       'Northern Mariana Islands', 'New Caledonia', 'Norfolk Island',\n",
       "       'Nauru', 'Niue', 'New Zealand', 'French Polynesia',\n",
       "       'Papua New Guinea', 'Pitcairn Island', 'Palau', 'Solomon Islands',\n",
       "       'French Southern Territories', 'Tokelau', 'Tonga', 'Tuvalu',\n",
       "       'Vanuatu', 'Wallis and Futuna', 'Samoa', 'Asia', 'Afghanistan',\n",
       "       'Armenia', 'Azerbaijan', 'Bangladesh', 'Brunei Darussalam',\n",
       "       'Bhutan', 'China', 'Georgia', 'Hong Kong', 'Indonesia', 'India',\n",
       "       'Japan', 'Kyrgyzstan', 'Cambodia', 'North Korea', 'South Korea',\n",
       "       'Kazakhstan', 'Laos', 'Sri Lanka', 'Myanmar', 'Mongolia', 'Macau',\n",
       "       'Maldives', 'Malaysia', 'Nepal', 'Philippines', 'Pakistan',\n",
       "       'Singapore', 'Thailand', 'Tajikistan', 'Timor-Leste',\n",
       "       'Turkmenistan', 'Taiwan', 'Uzbekistan', 'Vietnam', 'Europe',\n",
       "       'Andorra', 'Albania', 'Austria', 'Bosnia and Herzegovina',\n",
       "       'Belgium', 'Bulgaria', 'Belarus', 'Switzerland', 'Czechoslovakia',\n",
       "       'Cyprus', 'Czechia', 'East Germany', 'Germany', 'Denmark',\n",
       "       'Estonia', 'Spain', 'Finland', 'Faeroe Islands', 'France', 'UK',\n",
       "       'Gibraltar', 'Greenland', 'Greece', 'Croatia', 'Hungary',\n",
       "       'Ireland', 'Iceland', 'Italy', 'Kosovo', 'Liechtenstein',\n",
       "       'Lithuania', 'Luxembourg', 'Latvia', 'Monaco', 'Moldova',\n",
       "       'Montenegro', 'Macedonia', 'Malta', 'Netherlands', 'Norway',\n",
       "       'Poland', 'Portugal', 'Romania', 'Serbia', 'Russia', 'Sweden',\n",
       "       'Slovenia', 'Slovakia', 'San Marino', 'USSR', 'Ukraine',\n",
       "       'Vatican City', 'Yugoslavia/Serbia and Montenegro', 'Americas',\n",
       "       'Antigua and Barbuda', 'Anguilla', 'Netherlands Antilles',\n",
       "       'Argentina', 'Aruba', 'Barbados', 'Bermuda', 'Bolivia', 'Brazil',\n",
       "       'Bahamas', 'Belize', 'Canada', 'Chile', 'Colombia', 'Costa Rica',\n",
       "       'Cuba', 'Curacao', 'Dominica', 'Dominican Republic', 'Ecuador',\n",
       "       'Falkland Islands', 'Grenada', 'French Guiana', 'Guadeloupe',\n",
       "       'South Georgia and the South Sandwich Islands', 'Guatemala',\n",
       "       'Guyana', 'Honduras', 'Haiti', 'Jamaica', 'St Kitts and Nevis',\n",
       "       'Cayman Islands', 'St Lucia', 'Martinique', 'Montserrat', 'Mexico',\n",
       "       'Nicaragua', 'Panama', 'Peru', 'St Pierre and Miquelon',\n",
       "       'Puerto Rico', 'Paraguay', 'Suriname', 'El Salvador', 'St Maarten',\n",
       "       'Turks and Caicos', 'Trinidad and Tobago',\n",
       "       'US Minor Outlying Islands', 'USA', 'Uruguay',\n",
       "       'St Vincent and the Grenadines', 'Venezuela',\n",
       "       'British Virgin Islands', 'US Virgin Islands',\n",
       "       'Africa and the Middle East', 'UAE', 'Angola', 'Burkina Faso',\n",
       "       'Bahrain', 'Burundi', 'Benin', 'Botswana',\n",
       "       'Democratic Republic of the Congo', 'Central African Republic',\n",
       "       'Congo', \"Cote d'Ivoire\", 'Cameroon', 'Cape Verde', 'Djibouti',\n",
       "       'Algeria', 'Egypt', 'Western Sahara', 'Eritrea', 'Ethiopia',\n",
       "       'Gabon', 'Ghana', 'Gambia', 'Guinea', 'Equatorial Guinea',\n",
       "       'Guinea-Bissau', 'Israel', 'British Indian Ocean Territory',\n",
       "       'Iraq', 'Iran', 'Jordan', 'Kenya', 'Comoros', 'Kuwait', 'Lebanon',\n",
       "       'Liberia', 'Lesotho', 'Libya', 'Morocco', 'Madagascar', 'Mali',\n",
       "       'Mauritania', 'Mauritius', 'Malawi', 'Mozambique', 'Namibia',\n",
       "       'Niger', 'Nigeria', 'Oman', 'Palestine', 'Qatar', 'Reunion',\n",
       "       'Rwanda', 'Saudi Arabia', 'Seychelles', 'Sudan', 'St Helena',\n",
       "       'Sierra Leone', 'Senegal', 'Somalia', 'South Sudan',\n",
       "       'Sao Tome and Principe', 'Syria', 'Swaziland', 'Chad', 'Togo',\n",
       "       'Tunisia', 'Turkey', 'Tanzania', 'Uganda', 'South Yemen', 'Yemen',\n",
       "       'Mayotte', 'South Africa', 'Zambia', 'Zimbabwe', 'Not stated',\n",
       "       'All countries'], dtype=object)"
      ]
     },
     "execution_count": 60,
     "metadata": {},
     "output_type": "execute_result"
    }
   ],
   "source": [
    "data['Country'].unique()"
   ]
  },
  {
   "cell_type": "code",
   "execution_count": 61,
   "id": "6d624bad",
   "metadata": {},
   "outputs": [],
   "source": [
    "data['CountryID'] = pd.factorize(data.Country)[0]\n",
    "data['CitID'] = pd.factorize(data.Citizenship)[0]"
   ]
  },
  {
   "cell_type": "code",
   "execution_count": 62,
   "id": "40943f12",
   "metadata": {},
   "outputs": [
    {
     "data": {
      "text/plain": [
       "array([  0,   1,   2,   3,   4,   5,   6,   7,   8,   9,  10,  11,  12,\n",
       "        13,  14,  15,  16,  17,  18,  19,  20,  21,  22,  23,  24,  25,\n",
       "        26,  27,  28,  29,  30,  31,  32,  33,  34,  35,  36,  37,  38,\n",
       "        39,  40,  41,  42,  43,  44,  45,  46,  47,  48,  49,  50,  51,\n",
       "        52,  53,  54,  55,  56,  57,  58,  59,  60,  61,  62,  63,  64,\n",
       "        65,  66,  67,  68,  69,  70,  71,  72,  73,  74,  75,  76,  77,\n",
       "        78,  79,  80,  81,  82,  83,  84,  85,  86,  87,  88,  89,  90,\n",
       "        91,  92,  93,  94,  95,  96,  97,  98,  99, 100, 101, 102, 103,\n",
       "       104, 105, 106, 107, 108, 109, 110, 111, 112, 113, 114, 115, 116,\n",
       "       117, 118, 119, 120, 121, 122, 123, 124, 125, 126, 127, 128, 129,\n",
       "       130, 131, 132, 133, 134, 135, 136, 137, 138, 139, 140, 141, 142,\n",
       "       143, 144, 145, 146, 147, 148, 149, 150, 151, 152, 153, 154, 155,\n",
       "       156, 157, 158, 159, 160, 161, 162, 163, 164, 165, 166, 167, 168,\n",
       "       169, 170, 171, 172, 173, 174, 175, 176, 177, 178, 179, 180, 181,\n",
       "       182, 183, 184, 185, 186, 187, 188, 189, 190, 191, 192, 193, 194,\n",
       "       195, 196, 197, 198, 199, 200, 201, 202, 203, 204, 205, 206, 207,\n",
       "       208, 209, 210, 211, 212, 213, 214, 215, 216, 217, 218, 219, 220,\n",
       "       221, 222, 223, 224, 225, 226, 227, 228, 229, 230, 231, 232, 233,\n",
       "       234, 235, 236, 237, 238, 239, 240, 241, 242, 243, 244, 245, 246,\n",
       "       247, 248, 249, 250, 251, 252], dtype=int64)"
      ]
     },
     "execution_count": 62,
     "metadata": {},
     "output_type": "execute_result"
    }
   ],
   "source": [
    "data['CountryID'].unique()"
   ]
  },
  {
   "cell_type": "code",
   "execution_count": 63,
   "id": "13cc31c6",
   "metadata": {},
   "outputs": [
    {
     "data": {
      "text/plain": [
       "Measure         0\n",
       "Country         0\n",
       "Citizenship     0\n",
       "Year            0\n",
       "Value          72\n",
       "CountryID       0\n",
       "CitID           0\n",
       "dtype: int64"
      ]
     },
     "execution_count": 63,
     "metadata": {},
     "output_type": "execute_result"
    }
   ],
   "source": [
    "data.isnull().sum()"
   ]
  },
  {
   "cell_type": "code",
   "execution_count": 64,
   "id": "3b3b526f",
   "metadata": {},
   "outputs": [],
   "source": [
    "data['Value'].fillna(data['Value'].median(), inplace = True)"
   ]
  },
  {
   "cell_type": "code",
   "execution_count": 65,
   "id": "fdc76c10",
   "metadata": {},
   "outputs": [
    {
     "data": {
      "text/plain": [
       "Measure        0\n",
       "Country        0\n",
       "Citizenship    0\n",
       "Year           0\n",
       "Value          0\n",
       "CountryID      0\n",
       "CitID          0\n",
       "dtype: int64"
      ]
     },
     "execution_count": 65,
     "metadata": {},
     "output_type": "execute_result"
    }
   ],
   "source": [
    "data.isnull().sum()"
   ]
  },
  {
   "cell_type": "code",
   "execution_count": 66,
   "id": "1cc77fc0",
   "metadata": {},
   "outputs": [
    {
     "data": {
      "text/html": [
       "<div>\n",
       "<style scoped>\n",
       "    .dataframe tbody tr th:only-of-type {\n",
       "        vertical-align: middle;\n",
       "    }\n",
       "\n",
       "    .dataframe tbody tr th {\n",
       "        vertical-align: top;\n",
       "    }\n",
       "\n",
       "    .dataframe thead th {\n",
       "        text-align: right;\n",
       "    }\n",
       "</style>\n",
       "<table border=\"1\" class=\"dataframe\">\n",
       "  <thead>\n",
       "    <tr style=\"text-align: right;\">\n",
       "      <th></th>\n",
       "      <th>Measure</th>\n",
       "      <th>Country</th>\n",
       "      <th>Citizenship</th>\n",
       "      <th>Year</th>\n",
       "      <th>Value</th>\n",
       "      <th>CountryID</th>\n",
       "      <th>CitID</th>\n",
       "    </tr>\n",
       "  </thead>\n",
       "  <tbody>\n",
       "    <tr>\n",
       "      <th>0</th>\n",
       "      <td>0</td>\n",
       "      <td>Oceania</td>\n",
       "      <td>New Zealand Citizen</td>\n",
       "      <td>1979</td>\n",
       "      <td>11817.0</td>\n",
       "      <td>0</td>\n",
       "      <td>0</td>\n",
       "    </tr>\n",
       "    <tr>\n",
       "      <th>1</th>\n",
       "      <td>0</td>\n",
       "      <td>Oceania</td>\n",
       "      <td>Australian Citizen</td>\n",
       "      <td>1979</td>\n",
       "      <td>4436.0</td>\n",
       "      <td>0</td>\n",
       "      <td>1</td>\n",
       "    </tr>\n",
       "    <tr>\n",
       "      <th>2</th>\n",
       "      <td>0</td>\n",
       "      <td>Oceania</td>\n",
       "      <td>Total All Citizenships</td>\n",
       "      <td>1979</td>\n",
       "      <td>19965.0</td>\n",
       "      <td>0</td>\n",
       "      <td>2</td>\n",
       "    </tr>\n",
       "    <tr>\n",
       "      <th>3</th>\n",
       "      <td>0</td>\n",
       "      <td>Antarctica</td>\n",
       "      <td>New Zealand Citizen</td>\n",
       "      <td>1979</td>\n",
       "      <td>10.0</td>\n",
       "      <td>1</td>\n",
       "      <td>0</td>\n",
       "    </tr>\n",
       "    <tr>\n",
       "      <th>4</th>\n",
       "      <td>0</td>\n",
       "      <td>Antarctica</td>\n",
       "      <td>Australian Citizen</td>\n",
       "      <td>1979</td>\n",
       "      <td>0.0</td>\n",
       "      <td>1</td>\n",
       "      <td>1</td>\n",
       "    </tr>\n",
       "  </tbody>\n",
       "</table>\n",
       "</div>"
      ],
      "text/plain": [
       "   Measure     Country             Citizenship  Year    Value  CountryID  \\\n",
       "0        0     Oceania     New Zealand Citizen  1979  11817.0          0   \n",
       "1        0     Oceania      Australian Citizen  1979   4436.0          0   \n",
       "2        0     Oceania  Total All Citizenships  1979  19965.0          0   \n",
       "3        0  Antarctica     New Zealand Citizen  1979     10.0          1   \n",
       "4        0  Antarctica      Australian Citizen  1979      0.0          1   \n",
       "\n",
       "   CitID  \n",
       "0      0  \n",
       "1      1  \n",
       "2      2  \n",
       "3      0  \n",
       "4      1  "
      ]
     },
     "execution_count": 66,
     "metadata": {},
     "output_type": "execute_result"
    }
   ],
   "source": [
    "data.head(5)"
   ]
  },
  {
   "cell_type": "code",
   "execution_count": 69,
   "id": "e544b53b",
   "metadata": {},
   "outputs": [],
   "source": [
    "data.drop('Country', axis=1, inplace=True)\n",
    "data.drop('Citizenship', axis=1, inplace=True)\n",
    "x= data[['CountryID','Measure','Year','CitID']].values\n",
    "y= data['Value'].values\n",
    "x_train, x_test, y_train, y_test = train_test_split(x, y, test_size=0.3, random_state=9)"
   ]
  },
  {
   "cell_type": "code",
   "execution_count": 71,
   "id": "b231541f",
   "metadata": {},
   "outputs": [
    {
     "data": {
      "text/plain": [
       "0.7390952165203994"
      ]
     },
     "execution_count": 71,
     "metadata": {},
     "output_type": "execute_result"
    }
   ],
   "source": [
    "rf = RandomForestRegressor(n_estimators=70, max_features=3, max_depth = 5, n_jobs = -1)\n",
    "rf.fit(x_train, y_train)\n",
    "rf.score(x_test, y_test)"
   ]
  },
  {
   "cell_type": "code",
   "execution_count": 74,
   "id": "8087336c",
   "metadata": {},
   "outputs": [
    {
     "data": {
      "image/png": "[encoded data removed]",
      "text/plain": [
       "<Figure size 640x480 with 1 Axes>"
      ]
     },
     "metadata": {},
     "output_type": "display_data"
    }
   ],
   "source": [
    "x= data[['CountryID','Measure','Year','CitID']]\n",
    "y= data['Value']\n",
    "x_train, x_test, y_train, y_test = train_test_split(x, y, test_size=0.3, random_state=9)\n",
    "grouped = data.groupby(['Year']).aggregate({'Value' : 'sum'})\n",
    "\n",
    "grouped.plot(kind='line')\n",
    "plt.axhline(0, color= 'g')\n",
    "plt.show()"
   ]
  },
  {
   "cell_type": "code",
   "execution_count": 75,
   "id": "ebe2d74e",
   "metadata": {},
   "outputs": [
    {
     "data": {
      "image/png": "[encoded data removed]",
      "text/plain": [
       "<Figure size 640x480 with 1 Axes>"
      ]
     },
     "metadata": {},
     "output_type": "display_data"
    }
   ],
   "source": [
    "grouped.plot(kind='bar')\n",
    "plt.axhline(0, color= 'g')\n",
    "plt.show()"
   ]
  },
  {
   "cell_type": "code",
   "execution_count": 76,
   "id": "bb896786",
   "metadata": {},
   "outputs": [
    {
     "data": {
      "image/png": "[encoded data removed]",
      "text/plain": [
       "<Figure size 640x480 with 2 Axes>"
      ]
     },
     "metadata": {},
     "output_type": "display_data"
    }
   ],
   "source": [
    "corr = data.corr()\n",
    "sns.heatmap(corr,xticklabels=corr.columns.values, yticklabels = corr.columns.values)\n",
    "plt.show()"
   ]
  }
 ],
 "metadata": {
  "kernelspec": {
   "display_name": "Python 3 (ipykernel)",
   "language": "python",
   "name": "python3"
  },
  "language_info": {
   "codemirror_mode": {
    "name": "ipython",
    "version": 3
   },
   "file_extension": ".py",
   "mimetype": "text/x-python",
   "name": "python",
   "nbconvert_exporter": "python",
   "pygments_lexer": "ipython3",
   "version": "3.9.13"
  }
 },
 "nbformat": 4,
 "nbformat_minor": 5
}
